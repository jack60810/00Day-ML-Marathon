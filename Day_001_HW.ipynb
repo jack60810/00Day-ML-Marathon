{
 "cells": [
  {
   "cell_type": "markdown",
   "metadata": {},
   "source": [
    "1. 你選的這組資料為何重要 :　Titanic: Machine Learning from Disaster，了解當時鐵達尼號在甚麼條件下存活機率較高\n",
    "\n",
    "2. 資料從何而來 : Kaggle，這筆資料是資料探勘界有名的資料，可以幫助我們了解分群分類等演算法，利用淺顯易懂的例子去說明\n",
    "\n",
    "3. 蒐集而來的資料型態為何 : 結構化資料\n",
    "\n",
    "4. 這組資料想解決的問題如何評估: 分類正確率， 或是ROC 曲線"
   ]
  },
  {
   "cell_type": "markdown",
   "metadata": {},
   "source": [
    "作業2：\n",
    "\n",
    "想像你經營一個自由載客車隊，你希望能透過數據分析以提升業績，請你思考並描述你如何規劃整體的分析/解決方案：\n",
    "\n",
    "1. 核心問題為何 (tips：如何定義 「提升業績 & 你的假設」):\n",
    "提升業績 可以以MoM or YoY 比平均成長高 來做一個提升業績的benchmark\n",
    "\n",
    "2. 資料從何而來 (tips：哪些資料可能會對你想問的問題產生影響 & 資料如何蒐集)\n",
    "可以從載客率，與公開的車流資料進行交叉分析，找出容易載客地點，並且透過push的方式引領車子到車流量高的地方，提升業績與載客率\n",
    "\n",
    "3. 蒐集而來的資料型態為何 : 結構化資料、地理化資料\n",
    "\n",
    "4. 你要回答的問題，其如何評估 (tips：你的假設如何驗證)\n",
    "MoM 或 YoY 進行檢定，可以利用T TEST 來看前後的差異，所以不只看比例，也可以看信賴區間，更準確的了解到底有沒有進步。\n"
   ]
  },
  {
   "cell_type": "code",
   "execution_count": 31,
   "metadata": {},
   "outputs": [],
   "source": [
    "def mymse(x, x_hat):\n",
    "\n",
    "    x_len = len(x)\n",
    "    squ = []\n",
    "    for i in range(0,x_len):\n",
    "        temp = (float(x[i])-float(x_hat[i]))**2\n",
    "        squ = squ + [temp]\n",
    "                             \n",
    "    mse = sum(squ)/(x_len)\n",
    "    return(mse)"
   ]
  },
  {
   "cell_type": "code",
   "execution_count": 32,
   "metadata": {},
   "outputs": [
    {
     "data": {
      "text/plain": [
       "0.4166666666666667"
      ]
     },
     "execution_count": 32,
     "metadata": {},
     "output_type": "execute_result"
    }
   ],
   "source": [
    "x = [1,2,3]\n",
    "x_hat = [1,1.5,2]\n",
    "mymse(x,x_hat)"
   ]
  }
 ],
 "metadata": {
  "kernelspec": {
   "display_name": "Python 2",
   "language": "python",
   "name": "python2"
  },
  "language_info": {
   "codemirror_mode": {
    "name": "ipython",
    "version": 2
   },
   "file_extension": ".py",
   "mimetype": "text/x-python",
   "name": "python",
   "nbconvert_exporter": "python",
   "pygments_lexer": "ipython2",
   "version": "2.7.14"
  }
 },
 "nbformat": 4,
 "nbformat_minor": 2
}
